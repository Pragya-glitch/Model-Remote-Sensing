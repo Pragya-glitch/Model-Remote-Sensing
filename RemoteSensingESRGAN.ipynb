{
 "cells": [
  {
   "cell_type": "markdown",
   "metadata": {},
   "source": [
    "# ESRGAN"
   ]
  },
  {
   "cell_type": "markdown",
   "metadata": {},
   "source": [
    "This notebook is a simple implementation of the SRGAN super resolution architecture. Further Improvements need to be done. "
   ]
  },
  {
   "cell_type": "markdown",
   "metadata": {},
   "source": [
    "### Key takeaways from the paper"
   ]
  },
  {
   "cell_type": "markdown",
   "metadata": {},
   "source": [
    "- Ability of Mean Squared Error, Peak Signal to Noise Ratio to capture 'perceptually relevant'(like texture for instance) differences like high texture details is limited as both are based on pixel wise image differences. \n",
    "\n",
    "- Super resolved image may not be as photo realistic as the original image. \n",
    "\n",
    "- A Super Resolution Generative Adversarial Network is proposed, in which a deep residual network(ResNet) with skip connections. \n",
    "\n",
    "- A novel loss function is also proposed which uses high level feature maps of the VGG network. \n",
    "\n",
    "- Low resolution images were obtained by applying a Gaussian filter to the High Resolution Image, proceeded by a downsampling with a factor of r. \n",
    "\n",
    "- The ParametricReLU is used as the activation function. \n",
    "\n",
    "- The perceptual loss function was defined as a sum of content loss and adversarial loss. Weightage of the loss function is $1 : \\frac{1}{1000}$(content loss : adversarial loss)\n",
    "\n",
    "- Perceptual Loss > can use many humans to eval images, a far practical method is to use a pre trained network that has been trained on millions of images."
   ]
  },
  {
   "cell_type": "markdown",
   "metadata": {},
   "source": [
    "#### Things to read up on:\n",
    "- MSE, PSNR \n",
    "- ResNet, skip connections\n",
    "- Loss functions\n",
    "- feature maps, vgg network"
   ]
  },
  {
   "cell_type": "markdown",
   "metadata": {},
   "source": [
    "## Dependencies"
   ]
  },
  {
   "cell_type": "code",
   "execution_count": 1,
   "metadata": {
    "id": "tI0KcjC3auG4"
   },
   "outputs": [
    {
     "data": {
      "text/plain": [
       "<torch.autograd.anomaly_mode.set_detect_anomaly at 0x1b92f13e990>"
      ]
     },
     "execution_count": 1,
     "metadata": {},
     "output_type": "execute_result"
    }
   ],
   "source": [
    "import torch\n",
    "import math\n",
    "from os import listdir\n",
    "import numpy as np\n",
    "from torch.autograd import Variable\n",
    "from torchvision.transforms import Compose, RandomCrop, ToTensor, ToPILImage, CenterCrop, Resize\n",
    "from torch.utils.data import DataLoader, Dataset\n",
    "from PIL import Image\n",
    "from os.path import join\n",
    "from torch import nn, optim\n",
    "import torch.nn.functional as F\n",
    "from torchvision.models.vgg import vgg19\n",
    "from tqdm import tqdm\n",
    "import os\n",
    "from time import time\n",
    "torch.autograd.set_detect_anomaly(True)"
   ]
  },
  {
   "cell_type": "code",
   "execution_count": 2,
   "metadata": {
    "scrolled": true
   },
   "outputs": [],
   "source": [
    "import sys\n",
    "from glob import glob\n",
    "from math import log10, sqrt \n",
    "import matplotlib.pyplot as plt\n",
    "from skimage.metrics import structural_similarity as ssim\n",
    "import cv2\n",
    "import torchvision.transforms as transforms\n",
    "from scipy.ndimage import rotate\n",
    "from time import time\n",
    "import warnings as wr\n",
    "wr.filterwarnings(\"ignore\")\n",
    "from pylab import rcParams\n",
    "#rcParams['figure.figsize'] = 9,5"
   ]
  },
  {
   "cell_type": "code",
   "execution_count": 3,
   "metadata": {
    "id": "Y9gCiSoBdnXC"
   },
   "outputs": [],
   "source": [
    "UPSCALE_FACTOR = 4\n",
    "CROP_SIZE = 88"
   ]
  },
  {
   "cell_type": "code",
   "execution_count": 4,
   "metadata": {
    "id": "1JxvJbk7dqlY"
   },
   "outputs": [],
   "source": [
    "mean = np.array([0.485, 0.456, 0.406])\n",
    "std = np.array([0.229, 0.224, 0.225])"
   ]
  },
  {
   "cell_type": "markdown",
   "metadata": {},
   "source": [
    "## Image Metrics"
   ]
  },
  {
   "cell_type": "code",
   "execution_count": 5,
   "metadata": {},
   "outputs": [],
   "source": [
    "def PSNR(i, j): \n",
    "    mse = np.mean((i - j) ** 2) \n",
    "    if(mse == 0):  # MSE is zero means no noise is present in the signal . \n",
    "                  # Therefore PSNR have no importance. \n",
    "        return 100\n",
    "    max_pixel = 255.0\n",
    "    psnr = 20 * log10(max_pixel / sqrt(mse)) \n",
    "    return psnr "
   ]
  },
  {
   "cell_type": "code",
   "execution_count": 6,
   "metadata": {},
   "outputs": [],
   "source": [
    "def SSIM(i,j):\n",
    "    i = cv2.cvtColor(i, cv2.COLOR_BGR2GRAY)\n",
    "    j = cv2.cvtColor(j, cv2.COLOR_BGR2GRAY)\n",
    "    s = ssim(i, j)\n",
    "    return s"
   ]
  },
  {
   "cell_type": "code",
   "execution_count": 7,
   "metadata": {},
   "outputs": [],
   "source": [
    "def MSE(i, j):\n",
    "    # the 'Mean Squared Error' between the two images is the sum of the squared difference between the two images\n",
    "    mse_error = np.sum((i.astype(\"float\") - j.astype(\"float\")) ** 2)\n",
    "    mse_error /= float(i.shape[0] * i.shape[1])\n",
    "    # return the MSE. The lower the error, the more \"similar\" the two images are.\n",
    "    return mse_error"
   ]
  },
  {
   "cell_type": "markdown",
   "metadata": {},
   "source": [
    "## Helper Functions"
   ]
  },
  {
   "cell_type": "code",
   "execution_count": 8,
   "metadata": {},
   "outputs": [],
   "source": [
    "def readRGBImage(path):\n",
    "    '''\n",
    "    A simple function to read images in RGB, as OpenCV reads images in BGR, and can mess up displaying images. \n",
    "    \n",
    "    inputs: \n",
    "        path(str): this is the path of the image\n",
    "    '''\n",
    "    return cv2.cvtColor(cv2.imread(path), cv2.COLOR_BGR2RGB)"
   ]
  },
  {
   "cell_type": "code",
   "execution_count": 9,
   "metadata": {},
   "outputs": [],
   "source": [
    "def ScaleImageByRatio(image, factor, interpolationMethod = cv2.INTER_LINEAR):\n",
    "    '''\n",
    "    Scale the image using a scaling factor\n",
    "    \n",
    "    inputs:\n",
    "        image - input image as a matrix\n",
    "        factor - scale factor for both length and width \n",
    "        interpolationMethod - interpolation method used\n",
    "    '''\n",
    "    \n",
    "    return cv2.resize(image,None,fx=factor, fy=factor, interpolation = interpolationMethod)"
   ]
  },
  {
   "cell_type": "code",
   "execution_count": 10,
   "metadata": {},
   "outputs": [],
   "source": [
    "def DisplayImageComparison1x3(hr, lr, sr, lr_title = 'LR Image', sr_title = 'SR Image', metrics=False):\n",
    "    '''\n",
    "    This function shows a comparason of the ground truth HR images, LR images and the SR images. \n",
    "    \n",
    "    input: \n",
    "        hr(np.ndarray): the HR, ground-truth Image\n",
    "        lr(np.ndarray): the LR Image\n",
    "        hr(np.ndarray): the SR Image.\n",
    "    '''\n",
    "    if metrics:\n",
    "        sr_title = f'SR Image\\nPSNR: {PSNR(sr,hr):.3f}, SSIM: {SSIM(sr,hr):.3f}'\n",
    "    fig, axes = plt.subplots(nrows=1, ncols=3, figsize=(11,5))\n",
    "    ax = axes.ravel()\n",
    "    ax[0].imshow(hr)\n",
    "    ax[0].set_title('HR Image')\n",
    "    ax[1].imshow(lr)\n",
    "    ax[1].set_title(lr_title)\n",
    "    ax[2].imshow(sr)\n",
    "    ax[2].set_title(sr_title)\n",
    "    #plt.tight_layout()\n",
    "    plt.show()"
   ]
  },
  {
   "cell_type": "code",
   "execution_count": 11,
   "metadata": {},
   "outputs": [],
   "source": [
    "def getGPU_details(device):\n",
    "    '''\n",
    "    A simple function which prints information about your gpu. \n",
    "    '''\n",
    "    print(f'\\nGPU: {torch.cuda.get_device_name(0)}')\n",
    "    print(f'Total Memory: {round(torch.cuda.get_device_properties(0).total_memory/1024**3,1)} GB')\n",
    "    print('Memory Usage:')\n",
    "    print(f'Allocated: {round(torch.cuda.memory_allocated(0)/1024**3,1)} GB')\n",
    "    print(f'Cached: {round(torch.cuda.memory_reserved(0)/1024**3,1)} GB')"
   ]
  },
  {
   "cell_type": "markdown",
   "metadata": {},
   "source": [
    "## Conventional Methods\n",
    "![](upsampling_methods.png)"
   ]
  },
  {
   "cell_type": "code",
   "execution_count": 12,
   "metadata": {},
   "outputs": [
    {
     "data": {
      "text/plain": [
       "Text(0.5, 1.0, 'LR Image')"
      ]
     },
     "execution_count": 12,
     "metadata": {},
     "output_type": "execute_result"
    },
    {
     "data": {
      "image/png": "[encoded data removed]",
      "text/plain": [
       "<Figure size 1100x500 with 2 Axes>"
      ]
     },
     "metadata": {},
     "output_type": "display_data"
    }
   ],
   "source": [
    "img_hr = np.random.random((24,24))\n",
    "img_lr = ScaleImageByRatio(img_hr, 0.5)\n",
    "fig, ax = plt.subplots(nrows=1, ncols=2, figsize=(11,5))\n",
    "ax[0].imshow(img_hr)\n",
    "ax[0].set_title('HR Image')\n",
    "ax[1].imshow(img_lr)\n",
    "ax[1].set_title('LR Image')"
   ]
  },
  {
   "cell_type": "markdown",
   "metadata": {},
   "source": [
    "### Nearest Neighbour Interpolation\n",
    "\n",
    "Nearest Neighbour Interpolation in Images is a simple method used to resize images by determining the intensity value of new pixels based on the nearest existing pixel. Imagine you have a small picture and you want to make it bigger. Nearest Neighbor Interpolation helps decide what color each new pixel should be by looking at the closest original pixels. It's like if you have a small drawing and you want to make it twice as big, you would look at each small square and color the new big squares based on the closest small square's color. This method is quick and easy to understand, making it a common way to resize images."
   ]
  },
  {
   "cell_type": "code",
   "execution_count": 13,
   "metadata": {},
   "outputs": [
    {
     "data": {
      "image/png": "[encoded data removed]",
      "text/plain": [
       "<Figure size 1100x500 with 3 Axes>"
      ]
     },
     "metadata": {},
     "output_type": "display_data"
    }
   ],
   "source": [
    "a = ScaleImageByRatio(img_lr, 2, interpolationMethod=cv2.INTER_NEAREST)\n",
    "DisplayImageComparison1x3(img_hr, img_lr, a, sr_title='Image Upscaled by\\nNearest Neighbour Interpolation')"
   ]
  },
  {
   "cell_type": "markdown",
   "metadata": {},
   "source": [
    "### Bilinear Interpolation\n",
    "\n",
    "First, we perform linear interpolation in the x-direction at the y-coordinate of the new pixel. This means we find the values of the two closest pixels along the same row as the new pixel and calculate a weighted average of those two values based on the distance of the new pixel from each of those pixels.\n",
    "\n",
    "Next, we perform linear interpolation in the y-direction at the x-coordinate of the new pixel. This means we find the values of the two closest pixels along the same column as the new pixel and calculate a weighted average of those two values based on the distance of the new pixel from each of those pixels.\n",
    "\n",
    "Finally, we take the weighted average of the two interpolated values obtained in the previous steps to get the final value of the new pixel."
   ]
  },
  {
   "cell_type": "code",
   "execution_count": 14,
   "metadata": {},
   "outputs": [
    {
     "data": {
      "image/png": "[encoded data removed]",
      "text/plain": [
       "<Figure size 1100x500 with 3 Axes>"
      ]
     },
     "metadata": {},
     "output_type": "display_data"
    }
   ],
   "source": [
    "a = ScaleImageByRatio(img_lr, 2, interpolationMethod=cv2.INTER_LINEAR)\n",
    "DisplayImageComparison1x3(img_hr, img_lr, a, sr_title='Image Upscaled by\\nBilinear Interpolation')"
   ]
  },
  {
   "cell_type": "markdown",
   "metadata": {},
   "source": [
    "### Bicubic Interpolation\n",
    "\n",
    "Bilinear Interpolation uses the 4 closest pixels to estimate the value of a new pixel, whereas Bicubic Interpolation uses the 16 closest pixels. This allows Bicubic Interpolation to produce smoother and more accurate results, especially for images with fine details."
   ]
  },
  {
   "cell_type": "code",
   "execution_count": 15,
   "metadata": {},
   "outputs": [
    {
     "data": {
      "image/png": "[encoded data removed]",
      "text/plain": [
       "<Figure size 1100x500 with 3 Axes>"
      ]
     },
     "metadata": {},
     "output_type": "display_data"
    }
   ],
   "source": [
    "a = ScaleImageByRatio(img_lr, 2, interpolationMethod=cv2.INTER_CUBIC)\n",
    "DisplayImageComparison1x3(img_hr, img_lr, a, sr_title='Image Upscaled by\\nBicubic Interpolation')"
   ]
  },
  {
   "cell_type": "markdown",
   "metadata": {},
   "source": [
    "# Dataset"
   ]
  },
  {
   "cell_type": "markdown",
   "metadata": {},
   "source": [
    "This section contains code for the dataloader needed for the data in the folder. This is a custom implementation of the `TrainDatasetFromFolder` class, which inherits from the original class in the `pytorch` library. The dataloader returns a HR(High Resolution, which is the image at its original resolution) image and an LR image(which has been resized to introduce image degradation)."
   ]
  },
  {
   "cell_type": "markdown",
   "metadata": {},
   "source": [
    "The dataset we used in this notebook is the [Alsat-2B satellite dataset](https://github.com/achrafdjerida/Alsat-2B), which was introduced in the paper, [A New Public Alsat-2b dataset for Single-Image Super-Resolution](https://arxiv.org/pdf/2103.12547.pdf) which contains 2182 training image pairs of HR and LR images. The HR images have dimensions of 256x256 pixels, whereas the LR images have dimensions of 64x64 pixels. The Test dataset is split into 3 categories, each containing scenes from Agriculture, Urban, and a special category. These categories have 56 HR-LR image pairs each. "
   ]
  },
  {
   "cell_type": "code",
   "execution_count": 16,
   "metadata": {},
   "outputs": [],
   "source": [
    "def is_image_file(filename):\n",
    "    return any(filename.endswith(extension) for extension in ['.png', '.jpg', '.jpeg', '.PNG', '.JPG', '.JPEG'])"
   ]
  },
  {
   "cell_type": "code",
   "execution_count": 17,
   "metadata": {},
   "outputs": [],
   "source": [
    "def calculate_valid_crop_size(crop_size, upscale_factor):\n",
    "    return crop_size - (crop_size % upscale_factor)"
   ]
  },
  {
   "cell_type": "code",
   "execution_count": 18,
   "metadata": {},
   "outputs": [],
   "source": [
    "def train_hr_transform(crop_size):\n",
    "    return Compose([\n",
    "        RandomCrop(crop_size),\n",
    "        ToTensor(),\n",
    "    ])"
   ]
  },
  {
   "cell_type": "code",
   "execution_count": 19,
   "metadata": {},
   "outputs": [],
   "source": [
    "def train_lr_transform(crop_size, upscale_factor):\n",
    "    return Compose([\n",
    "        ToPILImage(),\n",
    "        Resize(crop_size // upscale_factor, interpolation=Image.BICUBIC),\n",
    "        ToTensor()\n",
    "    ])"
   ]
  },
  {
   "cell_type": "code",
   "execution_count": 20,
   "metadata": {},
   "outputs": [],
   "source": [
    "def display_transform():\n",
    "    return Compose([\n",
    "        ToPILImage(),\n",
    "        Resize(400),\n",
    "        CenterCrop(400),\n",
    "        ToTensor()\n",
    "    ])"
   ]
  },
  {
   "cell_type": "code",
   "execution_count": 21,
   "metadata": {
    "id": "N0tpRB2Jdys4"
   },
   "outputs": [],
   "source": [
    "class TrainDatasetFromFolder(Dataset):\n",
    "    def __init__(self, dataset_dir, crop_size, upscale_factor):\n",
    "        super().__init__()\n",
    "        self.image_filenames = [join(dataset_dir, x) for x in listdir(dataset_dir) if is_image_file(x)]\n",
    "        crop_size = calculate_valid_crop_size(crop_size, upscale_factor)\n",
    "        self.hr_transform = train_hr_transform(crop_size)\n",
    "        self.lr_transform = train_lr_transform(crop_size, upscale_factor)\n",
    "\n",
    "    def __getitem__(self, index):\n",
    "        hr_image = self.hr_transform(Image.open(self.image_filenames[index]))\n",
    "        lr_image = self.lr_transform(hr_image)\n",
    "        return lr_image, hr_image\n",
    "\n",
    "    def __len__(self):\n",
    "        return len(self.image_filenames)"
   ]
  },
  {
   "cell_type": "code",
   "execution_count": 22,
   "metadata": {},
   "outputs": [],
   "source": [
    "# Need to figure out what this does!\n",
    "class ValDatasetFromFolder(Dataset):\n",
    "    def __init__(self, dataset_dir, upscale_factor):\n",
    "        super().__init__()\n",
    "        self.upscale_factor = upscale_factor\n",
    "        self.image_filenames = [join(dataset_dir, x) for x in listdir(dataset_dir) if is_image_file(x)]\n",
    "        \n",
    "        def __getitem__(self, index):\n",
    "            hr_image = Image.open(self.image_filenames[index])\n",
    "            w, h = hr_image.size\n",
    "            crop_size = calculate_valid_crop_size(min(w,h), self.upscale_factor)\n",
    "            lr_scale = Resize(crop_size // self.upscale_factor, interpolation=Image.BICUBIC)\n",
    "            hr_scale = Resize(crop_size, interpolation=Image.BICUBIC)\n",
    "            hr_image = CenterCrop(crop_size)(hr_image)\n",
    "            lr_image = lr_scale(hr_image)\n",
    "            hr_restore_img = hr_scale(lr_img)\n",
    "            return ToTensor()(lr_image, ToTensor()(hr_restore_img), ToTensor()(hr_image))\n",
    "        \n",
    "        def __len__(self):\n",
    "            return len(self.image_filenames)"
   ]
  },
  {
   "cell_type": "code",
   "execution_count": 23,
   "metadata": {},
   "outputs": [],
   "source": [
    "class TestDatasetFromFolder(Dataset):\n",
    "    def __init__(self, dataset_dir, upscale_factor):\n",
    "        super().__init__()\n",
    "        self.lr_path = dataset_dir + '/SRF_' + str(upscale_factor) + '/data/'\n",
    "        self.hr_path = dataset_dir + '/SRF_' + str(upscale_factor) + '/target/'\n",
    "        self.upscale_factor = upscale_factor\n",
    "        self.lr_filenames = [join(self.lr_path, x) for x in listdir(self.lr_path) if is_image_file(x)]\n",
    "        self.hr_filenames = [join(self.hr_path, x) for x in listdir(self.hr_path) if is_image_file(x)]\n",
    "\n",
    "    def __getitem__(self, index):\n",
    "        image_name = self.lr_filenames[index].split('/')[-1]\n",
    "        lr_image = Image.open(self.lr_filenames[index])\n",
    "        w, h = lr_image.size\n",
    "        hr_image = Image.open(self.hr_filenames[index])\n",
    "        hr_scale = Resize((self.upscale_factor * h, self.upscale_factor * w), interpolation=Image.BICUBIC)\n",
    "        hr_restore_img = hr_scale(lr_image)\n",
    "        return image_name, ToTensor()(lr_image), ToTensor()(hr_restore_img), ToTensor()(hr_image)\n",
    "    \n",
    "    def __len__(self):\n",
    "        return len(self.lr_filenames)"
   ]
  },
  {
   "cell_type": "markdown",
   "metadata": {
    "id": "cA8VHoPTwMaz"
   },
   "source": [
    "# Model Implementation"
   ]
  },
  {
   "cell_type": "markdown",
   "metadata": {},
   "source": [
    "![SRGAN Model Architecture](images/esrgan.png)"
   ]
  },
  {
   "cell_type": "markdown",
   "metadata": {},
   "source": [
    "### What is a Residual Block?\n",
    "\n",
    "A Residual block consists of the following components:\n",
    "- A series of convolutional layers that are responsible for extracting features from the input data. \n",
    "- Batch normalisation is applied after each convolutional layer. This helps in stabilising and accelerating training by normalising the input to the following layer. \n",
    "- Activation functions are applied to introduce non linearity in the network, which allows the network to learn complex and non linear patterns in the data. \n",
    "- Skip Connections which are essentially the sum of the input of the block and the output of the last batch normalisation layer, allows gradients to flow more freely throught the network. "
   ]
  },
  {
   "cell_type": "markdown",
   "metadata": {},
   "source": [
    "A residual block is a fundamental component of ResNet, a model for extracting features from an image. It is designed to address the degradation problem in deep neural networks, which occurs when the performance of a deep neural network decreases as the number of layers increases"
   ]
  },
  {
   "cell_type": "markdown",
   "metadata": {},
   "source": [
    "> Note: Read up on the Vanishing Gradient Problem"
   ]
  },
  {
   "cell_type": "code",
   "execution_count": 24,
   "metadata": {},
   "outputs": [],
   "source": [
    "class FeatureExtractor(nn.Module):\n",
    "    def __init__(self):\n",
    "        super(FeatureExtractor, self).__init__()\n",
    "        vgg_model = vgg19(pretrained=True)\n",
    "        self.vgg_19_54 = nn.Sequential(*list(vgg_model.features.children())[:35]) # Read up on SRGAN, ESRGAN Perceptual Loss. \n",
    "        \n",
    "    def forward(self, img):\n",
    "        return self.vgg19_54(img)"
   ]
  },
  {
   "cell_type": "markdown",
   "metadata": {},
   "source": [
    "## What are Residual Dense Blocks?"
   ]
  },
  {
   "cell_type": "code",
   "execution_count": 25,
   "metadata": {},
   "outputs": [],
   "source": [
    "class ResidualDenseBlock(nn.Module):\n",
    "    def __init__(self, filters, beta=0.2):\n",
    "        super(ResidualDenseBlock, self).__init__()\n",
    "        self.beta = beta\n",
    "        \n",
    "        def block(inFeatures, non_linearity=True):\n",
    "            layers = [nn.Conv2d(inFeatures,filters, kernel_size=3, stride=1, padding=1, bias=True)]\n",
    "            if non_linearity:\n",
    "                layers += [nn.LeakyReLU()]\n",
    "            return nn.Sequential(*layers)\n",
    "        \n",
    "        self.b1 = block(inFeatures=1*filters)\n",
    "        self.b2 = block(inFeatures=2*filters)\n",
    "        self.b3 = block(inFeatures=3*filters)\n",
    "        self.b4 = block(inFeatures=4*filters)\n",
    "        self.b5 = block(inFeatures=5*filters, non_linearity=False)\n",
    "        self.blocks = [self.b1, self.b2, self.b3, self.b4, self.b5]\n",
    "        \n",
    "    def forward(self, x):\n",
    "        inputs = x\n",
    "        for block in self.blocks:\n",
    "            out = block(inputs)\n",
    "            inputs = torch.cat([inputs, out], 1)\n",
    "        return out.mul(self.beta) + x"
   ]
  },
  {
   "cell_type": "markdown",
   "metadata": {},
   "source": [
    "## What are Residual in Residual Dense Blocks?"
   ]
  },
  {
   "cell_type": "code",
   "execution_count": 26,
   "metadata": {},
   "outputs": [],
   "source": [
    "class ResidualInResidualDenseBlock(nn.Module):\n",
    "    def __init__(self, filters, beta=0.2):\n",
    "        super(ResidualInResidualDenseBlock, self).__init__()\n",
    "        self.beta = beta\n",
    "        self.dense_blocks = nn.Sequential(*[ResidualDenseBlock(filters) for _ in range(3)])\n",
    "\n",
    "    def forward(self, x):\n",
    "        return self.dense_blocks(x).mul(self.beta) + x"
   ]
  },
  {
   "cell_type": "markdown",
   "metadata": {},
   "source": [
    "## Generator Architecture\n",
    "\n",
    "No of Residual-in-Residual Blocks: 23"
   ]
  },
  {
   "cell_type": "markdown",
   "metadata": {},
   "source": [
    "#### What is PixelShuffle??\n",
    "\n",
    "<div style=\"display: flex;margin-top:1em;\">\n",
    "    <div style=\"margin:1em;\"><img src=\"images/pixel-shuffle-2x2-shuffle.gif\"></div>\n",
    "    <div style=\"margin:1em;\"><img src=\"images/pixel_shuffle.webp\"></div>\n",
    "</div>\n",
    "\n",
    "Pixel shuffle was a technique introduced in the paper, [Real-Time Single Image and Video Super-Resolution Using an Efficient Sub-Pixel Convolutional Neural Network](https://www.cv-foundation.org/openaccess/content_cvpr_2016/papers/Shi_Real-Time_Single_Image_CVPR_2016_paper.pdf). Pixel shuffle rearranges the elements of a $H \\times W \\times C \\cdot r^2$ tensor (where H=Height, W=Width, and C=Channels) into a $ rH \\times rW \\times C$ tensor. This improves the resolution of the feature maps by reducing the number of channels of features, which also results in fewer parameters for subsequent convolution operations. Pixel shuffle retains all the feature information, which can better alleviate the edge blur and artifacts caused by information loss. "
   ]
  },
  {
   "cell_type": "code",
   "execution_count": 27,
   "metadata": {
    "id": "ZZnfl5c0uzUI"
   },
   "outputs": [],
   "source": [
    "class Generator(nn.Module):\n",
    "    def __init__(self, channels, filters=64, n_blocks=23, n_upsample=2):\n",
    "        super(Generator, self).__init__()\n",
    "        self.conv1 = nn.Conv2d(channels, filters, kernel_size=3, stride=1, padding=1) # First Layers\n",
    "        self.res_block = nn.Sequential(*[ResidualInResidualDenseBlock(filters) for _ in range(n_blocks)]) # Residual Blocks\n",
    "        self.conv2 = nn.Conv2d(filters, filters, kernel_size=3, stride=1, padding=1)\n",
    "        upsampling_blocks = [] # Upsampling Blocks\n",
    "        for _ in range(n_upsample):\n",
    "            upsampling_blocks += [\n",
    "                nn.Conv2d(filters, filters*4, kernel_size=3, stride=1, padding=1),\n",
    "                nn.LeakyReLU(),\n",
    "                nn.PixelShuffle(upscale_factor=2)\n",
    "            ]\n",
    "        self.upsampling = nn.Sequential(*upsampling_blocks)\n",
    "        self.conv3 = nn.Sequential(\n",
    "            nn.Conv2d(filters, filters, kernel_size=3, stride=1, padding=1),\n",
    "            nn.LeakyReLU(),\n",
    "            nn.Conv2d(filters, channels, kernel_size=3, stride=1, padding=1),\n",
    "        )\n",
    "        \n",
    "    def forward(self, x):\n",
    "        out1 = self.conv1(x)\n",
    "        out = self.res_block(out1)\n",
    "        out2 = self.conv2(out)\n",
    "        out = torch.add(out1, out2)\n",
    "        out = self.upsampling(out)\n",
    "        out = self.conv3(out)\n",
    "        return out"
   ]
  },
  {
   "cell_type": "markdown",
   "metadata": {},
   "source": [
    "## Discriminator architecture\n",
    "\n",
    "The Discriminator block consists of a block which contains a convolutional layer, followed by batch normalisation, followed by an activation layer. The discriminator block then progressess to have the number of filters multiplied by 2(first block has 64 filters, next block has 128 filters, next block has 256 and so on and so forth). In addition, blocks with the same number of filters have alternating stride(2 blocks having 128 filters have strides of 1 for the first block, and 2 for the second block, same can be observed with the 256 filters blocks and the 512 filters blocks). This is then fed into a dense layer with 1024 nodes, which is fed into an activation function(LeakyReLU) and then into another dense layer with 1 node, whose output is fed into a sigmoid activation function. "
   ]
  },
  {
   "cell_type": "code",
   "execution_count": 28,
   "metadata": {},
   "outputs": [],
   "source": [
    "class Discriminator(nn.Module):\n",
    "    def __init__(self, input_shape):\n",
    "        super(Discriminator, self).__init__()\n",
    "        self.input_shape = input_shape\n",
    "        in_channels, in_height, in_width = self.input_shape\n",
    "        patch_height, patch_width = int(in_height/2 ** 4), int(in_width/2 ** 4)\n",
    "        self.output_shape = (1, patch_height, patch_width)\n",
    "        \n",
    "        def discriminator_block(in_filters, out_filters, first_block=True):\n",
    "            layers = []\n",
    "            layers.append(nn.Conv2d(in_filters, out_filters, kernel_size=3, stride=1, padding=1))\n",
    "            if not first_block:\n",
    "                layers.append(nn.BatchNorm2d(out_filters))\n",
    "            layers.append(nn.LeakyReLU(0.2, inplace=True))\n",
    "            layers.append(nn.Conv2d(out_filters, out_filters, kernel_size=3, stride=1, padding=1))\n",
    "            layers.append(nn.BatchNorm2d(out_filters))\n",
    "            layers.append(nn.LeakyReLU(0.2, inplace=True))\n",
    "            return layers\n",
    "        \n",
    "        layers = []\n",
    "        in_filters = 3\n",
    "        for i, out_filters in enumerate([64, 128, 256, 512]):\n",
    "            layers.extend(discriminator_block(in_filters, out_filters, first_block=(i==0)))\n",
    "            in_filters = out_filters\n",
    "        layers.append(nn.Conv2d(in_filters, 1, kernel_size=3, stride=1, padding=1))\n",
    "        self.model = nn.Sequential(*layers)\n",
    "        \n",
    "    def forward(self, img):\n",
    "        return self.model(img)"
   ]
  },
  {
   "cell_type": "code",
   "execution_count": 29,
   "metadata": {},
   "outputs": [
    {
     "data": {
      "text/plain": [
       "(480, 500, 3)"
      ]
     },
     "execution_count": 29,
     "metadata": {},
     "output_type": "execute_result"
    }
   ],
   "source": [
    "a = readRGBImage('source/test_images/baboon.png')\n",
    "a.shape"
   ]
  },
  {
   "cell_type": "markdown",
   "metadata": {},
   "source": [
    "## Loss Functions"
   ]
  },
  {
   "cell_type": "markdown",
   "metadata": {},
   "source": [
    "A number of loss functions have been devised over the past years to train SR models. These can be categorised into 2 categories: \n",
    "\n",
    "1. Pixel Based Losses\n",
    "2. Network Based Lossed"
   ]
  },
  {
   "cell_type": "markdown",
   "metadata": {},
   "source": [
    "#### Pixel Based Losses\n",
    "\n",
    "- Pixel Loss(MSE): This is Mean Squared Error, in which each pixel of the SR image is compared against the corresponding pixel in the HR image. \n",
    "- Mean Absolute Error: This is the sum of the absolute difference between the predicted values of the model and the actual target values. \n",
    "- Total Variation Loss(TV): This method is used to supress the noise in the generated image. It measures the noise in the image by taking the absolute difference between neighbouring pixels. "
   ]
  },
  {
   "cell_type": "markdown",
   "metadata": {},
   "source": [
    "#### Network Based Losses\n",
    "\n",
    "- Perceptual Losses: This loss function evaluates based on the perceptual quality of the generated SR image as compared to the perceptual quality of the HR image. The way this is implemented is using the high level features of a pretrained image classification network. \n",
    "- Texture Loss: This loss function is used to enable the generated SR image to have the same style as the HR image(can include texture, colour, contrast in the image). \n",
    "- Adversarial Loss: In essence this is the min-max loss function. The generator tries to maximise, while the discriminator tries to minimise. "
   ]
  },
  {
   "cell_type": "markdown",
   "metadata": {},
   "source": [
    "### The SRGAN Loss function \n",
    "\n",
    "The paper proposed a perceptual loss function, which consists of an adversarial loss and a content loss. The content loss is useful for comparing the features of the reconstructed images with the original images, focusing on differences in features rather than differences in pixel levels in attributes like colour and brightness. <br>\n",
    "\n",
    "In addition, the SRGAN model uses the VGG19 network to extract image features for content loss calculation. The VGG19 convolutional neural network was developed by Karen Simoyan and Andrew Zisserman at the University of Oxford in 2014. The network contains 19 trainable networks, out of which, 16 of those layers are convolutional. The network relies on 3x3 convolutions with a stride of 1(Stride refers to the number of pixels by which we move the filter/kernel across the input image).<br>\n",
    "\n",
    "By utilising  the VGG19 network, the SRGAN model can extract complex features from images and compare them to enhance image quality. Additionally, the VGG loss helps in preserving high frequency information and fine details in the reconstructed images. The adversarial loss function in the SRGAN model also encourages the generator to produce images that closely resemble high resolution images, further enhancing the overall performance of the model. <br>\n",
    "\n",
    "As stated earlier, the perceptual loss function consists of an adverserial loss and a content loss. The equation for them is given below. \n",
    "\n",
    "$$ \\large l^{\\text{SR}} = \\overbrace{\\underbrace{l_x^{\\text{SR}}}_{\\text{Content Loss}} + \\underbrace{10^{-3}l_{\\text{Gen}}^{\\text{SR}}}_{\\text{Adversarial Loss}}}^{\\text{Perceptual Loss}} $$\n",
    "\n",
    "As we can see from the equation, the content loss plays a major role in the loss function of the SRGAN loss function, while the adversarial loss function only has $\\frac{1}{1000}$th of weightage in the loss function. <br>\n",
    "\n",
    "The content loss is composed of 2 parts, MSE Loss, and VGGLoss. The MSE Loss is the pixel wise error between the HR image and the SR image, whereas the VGG loss indicates the feature map obtained by the j-th convolution(post activation) before the i-th maxpooling layer within the VGG19 network. This is also defined as the euclidean distance between the feature representations of a reconstructed image and the reference image. "
   ]
  },
  {
   "cell_type": "markdown",
   "metadata": {},
   "source": [
    "## Model Training"
   ]
  },
  {
   "cell_type": "markdown",
   "metadata": {},
   "source": [
    "### Device Selection\n",
    "\n",
    "This next code cell initialises the device that will be used for training. Since this is trained on a local machine, the model will choose a CUDA capable device(in this case, a Mobile NVIDIA RTX 3070Ti GPU with 8GB of VRAM). "
   ]
  },
  {
   "cell_type": "code",
   "execution_count": 30,
   "metadata": {
    "colab": {
     "base_uri": "https://localhost:8080/"
    },
    "id": "tzzSCJjjy7I9",
    "outputId": "50699703-68e5-4767-d034-d029bfdb66be"
   },
   "outputs": [
    {
     "name": "stdout",
     "output_type": "stream",
     "text": [
      "\n",
      "GPU: NVIDIA GeForce RTX 3070 Ti Laptop GPU\n",
      "Total Memory: 8.0 GB\n",
      "Memory Usage:\n",
      "Allocated: 0.0 GB\n",
      "Cached: 0.0 GB\n"
     ]
    }
   ],
   "source": [
    "device  = torch.device(\"cuda\" if torch.cuda.is_available() else \"cpu\")\n",
    "if device.type == 'cuda':\n",
    "    getGPU_details(device)"
   ]
  },
  {
   "cell_type": "code",
   "execution_count": 31,
   "metadata": {},
   "outputs": [],
   "source": [
    "torch.cuda.empty_cache()"
   ]
  },
  {
   "cell_type": "code",
   "execution_count": 32,
   "metadata": {},
   "outputs": [],
   "source": [
    "channels = 3"
   ]
  },
  {
   "cell_type": "code",
   "execution_count": 33,
   "metadata": {},
   "outputs": [],
   "source": [
    "hr_shape = (256, 256)"
   ]
  },
  {
   "cell_type": "markdown",
   "metadata": {},
   "source": [
    "### Generator Discriminator definitions"
   ]
  },
  {
   "cell_type": "code",
   "execution_count": 34,
   "metadata": {},
   "outputs": [],
   "source": [
    "generator = Generator(channels).to(device)\n",
    "discriminator = Discriminator(input_shape=(channels, *hr_shape)).to(device)\n",
    "feature_extractor = FeatureExtractor().to(device)"
   ]
  },
  {
   "cell_type": "code",
   "execution_count": 35,
   "metadata": {},
   "outputs": [
    {
     "data": {
      "text/plain": [
       "FeatureExtractor(\n",
       "  (vgg_19_54): Sequential(\n",
       "    (0): Conv2d(3, 64, kernel_size=(3, 3), stride=(1, 1), padding=(1, 1))\n",
       "    (1): ReLU(inplace=True)\n",
       "    (2): Conv2d(64, 64, kernel_size=(3, 3), stride=(1, 1), padding=(1, 1))\n",
       "    (3): ReLU(inplace=True)\n",
       "    (4): MaxPool2d(kernel_size=2, stride=2, padding=0, dilation=1, ceil_mode=False)\n",
       "    (5): Conv2d(64, 128, kernel_size=(3, 3), stride=(1, 1), padding=(1, 1))\n",
       "    (6): ReLU(inplace=True)\n",
       "    (7): Conv2d(128, 128, kernel_size=(3, 3), stride=(1, 1), padding=(1, 1))\n",
       "    (8): ReLU(inplace=True)\n",
       "    (9): MaxPool2d(kernel_size=2, stride=2, padding=0, dilation=1, ceil_mode=False)\n",
       "    (10): Conv2d(128, 256, kernel_size=(3, 3), stride=(1, 1), padding=(1, 1))\n",
       "    (11): ReLU(inplace=True)\n",
       "    (12): Conv2d(256, 256, kernel_size=(3, 3), stride=(1, 1), padding=(1, 1))\n",
       "    (13): ReLU(inplace=True)\n",
       "    (14): Conv2d(256, 256, kernel_size=(3, 3), stride=(1, 1), padding=(1, 1))\n",
       "    (15): ReLU(inplace=True)\n",
       "    (16): Conv2d(256, 256, kernel_size=(3, 3), stride=(1, 1), padding=(1, 1))\n",
       "    (17): ReLU(inplace=True)\n",
       "    (18): MaxPool2d(kernel_size=2, stride=2, padding=0, dilation=1, ceil_mode=False)\n",
       "    (19): Conv2d(256, 512, kernel_size=(3, 3), stride=(1, 1), padding=(1, 1))\n",
       "    (20): ReLU(inplace=True)\n",
       "    (21): Conv2d(512, 512, kernel_size=(3, 3), stride=(1, 1), padding=(1, 1))\n",
       "    (22): ReLU(inplace=True)\n",
       "    (23): Conv2d(512, 512, kernel_size=(3, 3), stride=(1, 1), padding=(1, 1))\n",
       "    (24): ReLU(inplace=True)\n",
       "    (25): Conv2d(512, 512, kernel_size=(3, 3), stride=(1, 1), padding=(1, 1))\n",
       "    (26): ReLU(inplace=True)\n",
       "    (27): MaxPool2d(kernel_size=2, stride=2, padding=0, dilation=1, ceil_mode=False)\n",
       "    (28): Conv2d(512, 512, kernel_size=(3, 3), stride=(1, 1), padding=(1, 1))\n",
       "    (29): ReLU(inplace=True)\n",
       "    (30): Conv2d(512, 512, kernel_size=(3, 3), stride=(1, 1), padding=(1, 1))\n",
       "    (31): ReLU(inplace=True)\n",
       "    (32): Conv2d(512, 512, kernel_size=(3, 3), stride=(1, 1), padding=(1, 1))\n",
       "    (33): ReLU(inplace=True)\n",
       "    (34): Conv2d(512, 512, kernel_size=(3, 3), stride=(1, 1), padding=(1, 1))\n",
       "  )\n",
       ")"
      ]
     },
     "execution_count": 35,
     "metadata": {},
     "output_type": "execute_result"
    }
   ],
   "source": [
    "feature_extractor.eval() # set feature extractor to inference mode"
   ]
  },
  {
   "cell_type": "markdown",
   "metadata": {},
   "source": [
    "### Losses"
   ]
  },
  {
   "cell_type": "code",
   "execution_count": 36,
   "metadata": {},
   "outputs": [],
   "source": [
    "criterion_GAN = torch.nn.BCEWithLogitsLoss().to(device)\n",
    "criterion_content = torch.nn.L1Loss().to(device)\n",
    "criterion_pixel = torch.nn.L1Loss().to(device)"
   ]
  },
  {
   "cell_type": "markdown",
   "metadata": {},
   "source": [
    "### Optimizer"
   ]
  },
  {
   "cell_type": "code",
   "execution_count": 37,
   "metadata": {},
   "outputs": [],
   "source": [
    "optimizer_G = torch.optim.Adam(generator.parameters(), lr=0.0002)\n",
    "optimizer_D = torch.optim.Adam(discriminator.parameters(), lr=0.0002)"
   ]
  },
  {
   "cell_type": "markdown",
   "metadata": {},
   "source": [
    "### Dataset root directory"
   ]
  },
  {
   "cell_type": "code",
   "execution_count": 38,
   "metadata": {
    "colab": {
     "base_uri": "https://localhost:8080/"
    },
    "id": "re2-OAGQv-aQ",
    "outputId": "c728e7af-8eac-4f92-b125-5342ccf6586d"
   },
   "outputs": [],
   "source": [
    "train_set = TrainDatasetFromFolder(\"source/Alsat-2B/Train/HR\", crop_size=CROP_SIZE,\n",
    "                                   upscale_factor=UPSCALE_FACTOR)\n",
    "trainloader = DataLoader(train_set, batch_size=16, num_workers=0, shuffle=True)"
   ]
  },
  {
   "cell_type": "code",
   "execution_count": 39,
   "metadata": {
    "id": "doBMeLWOLs_0"
   },
   "outputs": [],
   "source": [
    "results = {\n",
    "    \"d_loss\":[],\n",
    "    \"g_loss\":[],\n",
    "    \"d_score\": [],\n",
    "    \"g_score\": []\n",
    "}"
   ]
  },
  {
   "cell_type": "code",
   "execution_count": 40,
   "metadata": {
    "id": "BeTxlp0eML1d"
   },
   "outputs": [],
   "source": [
    "N_EPOCHS = 10"
   ]
  },
  {
   "cell_type": "code",
   "execution_count": 41,
   "metadata": {},
   "outputs": [],
   "source": [
    "def saveCheckpoint(model, optimizer, filename):\n",
    "    checkpoint = {\n",
    "        'state_dict': model.state_dict(),\n",
    "        'optimizer': optimizer.state_dict(),\n",
    "    }\n",
    "    torch.save(checkpoint,filename)\n",
    "    print(f'Saved checkpoint {filename}')"
   ]
  },
  {
   "cell_type": "code",
   "execution_count": 42,
   "metadata": {},
   "outputs": [],
   "source": [
    "def loadCheckpoint(checkpoint_file, model, optimizer, lr): \n",
    "    checkpoint = torch.load(checkpoint_file, map_location=device)\n",
    "    model.load_state_dict(checkpoint['state_dict'])\n",
    "    optimizer.load_state_dict(checkpoint['optimizer'])\n",
    "\n",
    "    for param_group in optimizer.param_groups:      # needed or model will have learning rate of older checkpoint \n",
    "        param_group['lr'] = lr\n",
    "    print(f'Loaded checkpoint: {checkpoint_file}')"
   ]
  },
  {
   "cell_type": "markdown",
   "metadata": {},
   "source": [
    "The Code block below implements the training of the SRGAN model. The discriminator network is updated first, followed by the generator network. The process is repeated for each batch of data until the end of the epoch is reached. The running totals of the losses and scores are used to compute the average loss and score for each epoch. "
   ]
  },
  {
   "cell_type": "code",
   "execution_count": 43,
   "metadata": {},
   "outputs": [],
   "source": [
    "Tensor = torch.cuda.FloatTensor if torch.cuda.is_available() else torch.Tensor"
   ]
  },
  {
   "cell_type": "code",
   "execution_count": 44,
   "metadata": {
    "scrolled": false
   },
   "outputs": [
    {
     "name": "stdout",
     "output_type": "stream",
     "text": [
      "imgs_lr shape: torch.Size([16, 3, 22, 22])\n",
      "imgs_hr shape: torch.Size([16, 3, 88, 88])\n",
      "valid shape: torch.Size([16, 1, 16, 16])\n",
      "fake shape: torch.Size([16, 1, 16, 16])\n",
      "pred_real shape: torch.Size([16, 1, 88, 88])\n",
      "pred_fake shape: torch.Size([16, 1, 88, 88])\n"
     ]
    },
    {
     "ename": "ValueError",
     "evalue": "Target size (torch.Size([16, 1, 16, 16])) must be the same as input size (torch.Size([16, 1, 88, 88]))",
     "output_type": "error",
     "traceback": [
      "\u001b[1;31m---------------------------------------------------------------------------\u001b[0m",
      "\u001b[1;31mValueError\u001b[0m                                Traceback (most recent call last)",
      "Cell \u001b[1;32mIn[44], line 28\u001b[0m\n\u001b[0;32m     26\u001b[0m \u001b[38;5;28mprint\u001b[39m(\u001b[38;5;124mf\u001b[39m\u001b[38;5;124m'\u001b[39m\u001b[38;5;124mpred_real shape: \u001b[39m\u001b[38;5;132;01m{\u001b[39;00mpred_real\u001b[38;5;241m.\u001b[39mshape\u001b[38;5;132;01m}\u001b[39;00m\u001b[38;5;124m'\u001b[39m)\n\u001b[0;32m     27\u001b[0m \u001b[38;5;28mprint\u001b[39m(\u001b[38;5;124mf\u001b[39m\u001b[38;5;124m'\u001b[39m\u001b[38;5;124mpred_fake shape: \u001b[39m\u001b[38;5;132;01m{\u001b[39;00mpred_fake\u001b[38;5;241m.\u001b[39mshape\u001b[38;5;132;01m}\u001b[39;00m\u001b[38;5;124m'\u001b[39m)\n\u001b[1;32m---> 28\u001b[0m loss_GAN \u001b[38;5;241m=\u001b[39m (\u001b[43mcriterion_GAN\u001b[49m\u001b[43m(\u001b[49m\u001b[43mpred_fake\u001b[49m\u001b[43m \u001b[49m\u001b[38;5;241;43m-\u001b[39;49m\u001b[43m \u001b[49m\u001b[43mpred_real\u001b[49m\u001b[38;5;241;43m.\u001b[39;49m\u001b[43mmean\u001b[49m\u001b[43m(\u001b[49m\u001b[38;5;241;43m0\u001b[39;49m\u001b[43m,\u001b[49m\u001b[43m \u001b[49m\u001b[43mkeepdim\u001b[49m\u001b[38;5;241;43m=\u001b[39;49m\u001b[38;5;28;43;01mTrue\u001b[39;49;00m\u001b[43m)\u001b[49m\u001b[43m,\u001b[49m\u001b[43m \u001b[49m\u001b[43mvalid\u001b[49m\u001b[43m)\u001b[49m \u001b[38;5;241m+\u001b[39m criterion_GAN(pred_real \u001b[38;5;241m-\u001b[39m pred_fake\u001b[38;5;241m.\u001b[39mmean(\u001b[38;5;241m0\u001b[39m, keepdim\u001b[38;5;241m=\u001b[39m\u001b[38;5;28;01mTrue\u001b[39;00m), fake)) \u001b[38;5;241m/\u001b[39m \u001b[38;5;241m2\u001b[39m\n\u001b[0;32m     29\u001b[0m gen_features \u001b[38;5;241m=\u001b[39m feature_extractor(gen_hr)\n\u001b[0;32m     30\u001b[0m real_features \u001b[38;5;241m=\u001b[39m feature_extractor(imgs_hr)\u001b[38;5;241m.\u001b[39mdetach()\n",
      "File \u001b[1;32mD:\\Python Notebooks\\R&D - Remote Sensing Super-Resolution\\superres\\Lib\\site-packages\\torch\\nn\\modules\\module.py:1532\u001b[0m, in \u001b[0;36mModule._wrapped_call_impl\u001b[1;34m(self, *args, **kwargs)\u001b[0m\n\u001b[0;32m   1530\u001b[0m     \u001b[38;5;28;01mreturn\u001b[39;00m \u001b[38;5;28mself\u001b[39m\u001b[38;5;241m.\u001b[39m_compiled_call_impl(\u001b[38;5;241m*\u001b[39margs, \u001b[38;5;241m*\u001b[39m\u001b[38;5;241m*\u001b[39mkwargs)  \u001b[38;5;66;03m# type: ignore[misc]\u001b[39;00m\n\u001b[0;32m   1531\u001b[0m \u001b[38;5;28;01melse\u001b[39;00m:\n\u001b[1;32m-> 1532\u001b[0m     \u001b[38;5;28;01mreturn\u001b[39;00m \u001b[38;5;28;43mself\u001b[39;49m\u001b[38;5;241;43m.\u001b[39;49m\u001b[43m_call_impl\u001b[49m\u001b[43m(\u001b[49m\u001b[38;5;241;43m*\u001b[39;49m\u001b[43margs\u001b[49m\u001b[43m,\u001b[49m\u001b[43m \u001b[49m\u001b[38;5;241;43m*\u001b[39;49m\u001b[38;5;241;43m*\u001b[39;49m\u001b[43mkwargs\u001b[49m\u001b[43m)\u001b[49m\n",
      "File \u001b[1;32mD:\\Python Notebooks\\R&D - Remote Sensing Super-Resolution\\superres\\Lib\\site-packages\\torch\\nn\\modules\\module.py:1541\u001b[0m, in \u001b[0;36mModule._call_impl\u001b[1;34m(self, *args, **kwargs)\u001b[0m\n\u001b[0;32m   1536\u001b[0m \u001b[38;5;66;03m# If we don't have any hooks, we want to skip the rest of the logic in\u001b[39;00m\n\u001b[0;32m   1537\u001b[0m \u001b[38;5;66;03m# this function, and just call forward.\u001b[39;00m\n\u001b[0;32m   1538\u001b[0m \u001b[38;5;28;01mif\u001b[39;00m \u001b[38;5;129;01mnot\u001b[39;00m (\u001b[38;5;28mself\u001b[39m\u001b[38;5;241m.\u001b[39m_backward_hooks \u001b[38;5;129;01mor\u001b[39;00m \u001b[38;5;28mself\u001b[39m\u001b[38;5;241m.\u001b[39m_backward_pre_hooks \u001b[38;5;129;01mor\u001b[39;00m \u001b[38;5;28mself\u001b[39m\u001b[38;5;241m.\u001b[39m_forward_hooks \u001b[38;5;129;01mor\u001b[39;00m \u001b[38;5;28mself\u001b[39m\u001b[38;5;241m.\u001b[39m_forward_pre_hooks\n\u001b[0;32m   1539\u001b[0m         \u001b[38;5;129;01mor\u001b[39;00m _global_backward_pre_hooks \u001b[38;5;129;01mor\u001b[39;00m _global_backward_hooks\n\u001b[0;32m   1540\u001b[0m         \u001b[38;5;129;01mor\u001b[39;00m _global_forward_hooks \u001b[38;5;129;01mor\u001b[39;00m _global_forward_pre_hooks):\n\u001b[1;32m-> 1541\u001b[0m     \u001b[38;5;28;01mreturn\u001b[39;00m \u001b[43mforward_call\u001b[49m\u001b[43m(\u001b[49m\u001b[38;5;241;43m*\u001b[39;49m\u001b[43margs\u001b[49m\u001b[43m,\u001b[49m\u001b[43m \u001b[49m\u001b[38;5;241;43m*\u001b[39;49m\u001b[38;5;241;43m*\u001b[39;49m\u001b[43mkwargs\u001b[49m\u001b[43m)\u001b[49m\n\u001b[0;32m   1543\u001b[0m \u001b[38;5;28;01mtry\u001b[39;00m:\n\u001b[0;32m   1544\u001b[0m     result \u001b[38;5;241m=\u001b[39m \u001b[38;5;28;01mNone\u001b[39;00m\n",
      "File \u001b[1;32mD:\\Python Notebooks\\R&D - Remote Sensing Super-Resolution\\superres\\Lib\\site-packages\\torch\\nn\\modules\\loss.py:731\u001b[0m, in \u001b[0;36mBCEWithLogitsLoss.forward\u001b[1;34m(self, input, target)\u001b[0m\n\u001b[0;32m    730\u001b[0m \u001b[38;5;28;01mdef\u001b[39;00m \u001b[38;5;21mforward\u001b[39m(\u001b[38;5;28mself\u001b[39m, \u001b[38;5;28minput\u001b[39m: Tensor, target: Tensor) \u001b[38;5;241m-\u001b[39m\u001b[38;5;241m>\u001b[39m Tensor:\n\u001b[1;32m--> 731\u001b[0m     \u001b[38;5;28;01mreturn\u001b[39;00m \u001b[43mF\u001b[49m\u001b[38;5;241;43m.\u001b[39;49m\u001b[43mbinary_cross_entropy_with_logits\u001b[49m\u001b[43m(\u001b[49m\u001b[38;5;28;43minput\u001b[39;49m\u001b[43m,\u001b[49m\u001b[43m \u001b[49m\u001b[43mtarget\u001b[49m\u001b[43m,\u001b[49m\n\u001b[0;32m    732\u001b[0m \u001b[43m                                              \u001b[49m\u001b[38;5;28;43mself\u001b[39;49m\u001b[38;5;241;43m.\u001b[39;49m\u001b[43mweight\u001b[49m\u001b[43m,\u001b[49m\n\u001b[0;32m    733\u001b[0m \u001b[43m                                              \u001b[49m\u001b[43mpos_weight\u001b[49m\u001b[38;5;241;43m=\u001b[39;49m\u001b[38;5;28;43mself\u001b[39;49m\u001b[38;5;241;43m.\u001b[39;49m\u001b[43mpos_weight\u001b[49m\u001b[43m,\u001b[49m\n\u001b[0;32m    734\u001b[0m \u001b[43m                                              \u001b[49m\u001b[43mreduction\u001b[49m\u001b[38;5;241;43m=\u001b[39;49m\u001b[38;5;28;43mself\u001b[39;49m\u001b[38;5;241;43m.\u001b[39;49m\u001b[43mreduction\u001b[49m\u001b[43m)\u001b[49m\n",
      "File \u001b[1;32mD:\\Python Notebooks\\R&D - Remote Sensing Super-Resolution\\superres\\Lib\\site-packages\\torch\\nn\\functional.py:3224\u001b[0m, in \u001b[0;36mbinary_cross_entropy_with_logits\u001b[1;34m(input, target, weight, size_average, reduce, reduction, pos_weight)\u001b[0m\n\u001b[0;32m   3221\u001b[0m     reduction_enum \u001b[38;5;241m=\u001b[39m _Reduction\u001b[38;5;241m.\u001b[39mget_enum(reduction)\n\u001b[0;32m   3223\u001b[0m \u001b[38;5;28;01mif\u001b[39;00m \u001b[38;5;129;01mnot\u001b[39;00m (target\u001b[38;5;241m.\u001b[39msize() \u001b[38;5;241m==\u001b[39m \u001b[38;5;28minput\u001b[39m\u001b[38;5;241m.\u001b[39msize()):\n\u001b[1;32m-> 3224\u001b[0m     \u001b[38;5;28;01mraise\u001b[39;00m \u001b[38;5;167;01mValueError\u001b[39;00m(\u001b[38;5;124mf\u001b[39m\u001b[38;5;124m\"\u001b[39m\u001b[38;5;124mTarget size (\u001b[39m\u001b[38;5;132;01m{\u001b[39;00mtarget\u001b[38;5;241m.\u001b[39msize()\u001b[38;5;132;01m}\u001b[39;00m\u001b[38;5;124m) must be the same as input size (\u001b[39m\u001b[38;5;132;01m{\u001b[39;00m\u001b[38;5;28minput\u001b[39m\u001b[38;5;241m.\u001b[39msize()\u001b[38;5;132;01m}\u001b[39;00m\u001b[38;5;124m)\u001b[39m\u001b[38;5;124m\"\u001b[39m)\n\u001b[0;32m   3226\u001b[0m \u001b[38;5;28;01mreturn\u001b[39;00m torch\u001b[38;5;241m.\u001b[39mbinary_cross_entropy_with_logits(\u001b[38;5;28minput\u001b[39m, target, weight, pos_weight, reduction_enum)\n",
      "\u001b[1;31mValueError\u001b[0m: Target size (torch.Size([16, 1, 16, 16])) must be the same as input size (torch.Size([16, 1, 88, 88]))"
     ]
    }
   ],
   "source": [
    "for epoch in range(1, N_EPOCHS + 1):\n",
    "    for i, (data, target) in enumerate(trainloader):\n",
    "\n",
    "        batches_done = epoch * len(trainloader) + i\n",
    "\n",
    "        imgs_lr = Variable(data.type(Tensor))\n",
    "        imgs_hr = Variable(target.type(Tensor))\n",
    "        \n",
    "        print(f'imgs_lr shape: {imgs_lr.shape}')\n",
    "        print(f'imgs_hr shape: {imgs_hr.shape}')\n",
    "        \n",
    "        valid = Variable(Tensor(np.ones((imgs_lr.size(0), *discriminator.output_shape))), requires_grad=False)\n",
    "        fake = Variable(Tensor(np.zeros((imgs_lr.size(0), *discriminator.output_shape))), requires_grad=False)\n",
    "        print(f'valid shape: {valid.shape}')\n",
    "        print(f'fake shape: {fake.shape}')\n",
    "\n",
    "        # ------------------\n",
    "        #  Train Generator\n",
    "        # ------------------   \n",
    "\n",
    "        optimizer_G.zero_grad()\n",
    "        gen_hr = generator(imgs_lr)\n",
    "        loss_pixel = criterion_pixel(gen_hr, imgs_hr)\n",
    "        pred_real = discriminator(imgs_hr).detach()\n",
    "        pred_fake = discriminator(gen_hr)\n",
    "        print(f'pred_real shape: {pred_real.shape}')\n",
    "        print(f'pred_fake shape: {pred_fake.shape}')\n",
    "        loss_GAN = (criterion_GAN(pred_fake - pred_real.mean(0, keepdim=True), valid) + criterion_GAN(pred_real - pred_fake.mean(0, keepdim=True), fake)) / 2\n",
    "        gen_features = feature_extractor(gen_hr)\n",
    "        real_features = feature_extractor(imgs_hr).detach()\n",
    "        loss_content = criterion_content(gen_features, real_features)\n",
    "\n",
    "        loss_G = opt.lambda_content * loss_content + opt.lambda_adv * loss_GAN + opt.lambda_pixel * loss_pixel\n",
    "        loss_G.backward()\n",
    "        optimizer_G.step()\n",
    "\n",
    "        # --------------------\n",
    "        # Train Discriminator  \n",
    "        # --------------------  \n",
    "\n",
    "        optimizer_D.zero_grad()\n",
    "        pred_real = discriminator(imgs_hr)\n",
    "        pred_fake = discriminator(gen_hr.detach()) # 不更新生成器生成的图像  \n",
    "        loss_real = criterion_GAN(pred_real - pred_fake.mean(0, keepdim=True), valid)\n",
    "        loss_fake = criterion_GAN(pred_fake - pred_real.mean(0, keepdim=True), fake)\n",
    "        loss_D = (loss_real + loss_fake) / 2\n",
    "        loss_D.backward()\n",
    "        optimizer_D.step()\n",
    "\n",
    "        # -----------------  \n",
    "        # Log Progress  \n",
    "        # -----------------\n",
    "\n",
    "        print(\n",
    "            '[Epoch %d/%d] [Batch %d/%d] [D loss: %f] [G loss: %f, content: %f, adv: %f, pixel: %f]' % \n",
    "            (\n",
    "                epoch, \n",
    "                opt.n_epochs, \n",
    "                i, \n",
    "                len(train_loader), \n",
    "                loss_D.item(), \n",
    "                loss_G.item(), \n",
    "                loss_content.item(), \n",
    "                loss_GAN.item(), \n",
    "                loss_pixel.item(), \n",
    "            )\n",
    "        )\n",
    "\n",
    "\n",
    "    torch.save(generator.state_dict(), 'checkpoints/generator_%d.pth' % epoch)\n",
    "    torch.save(discriminator.state_dict(), 'checkpoints/discriminator_%d.pth' % epoch)"
   ]
  },
  {
   "cell_type": "markdown",
   "metadata": {
    "id": "0u95d5GJkfAf"
   },
   "source": [
    "# An attempt at testing the model"
   ]
  },
  {
   "cell_type": "code",
   "execution_count": null,
   "metadata": {},
   "outputs": [],
   "source": [
    "def testModel(input_file, save_image=False):\n",
    "    '''\n",
    "    This function passes an image into the model, and retrieves its input. \n",
    "    Need to implement model saving and checkpointing. \n",
    "    '''\n",
    "    # Read input image and convert to Tensor for feeding into model\n",
    "    image = cv2.imread(input_file)\n",
    "    image = cv2.cvtColor(image, cv2.COLOR_BGR2RGB) # Need to add this as OpenCV uses BGR instead of RGB\n",
    "    transform = transforms.Compose([transforms.ToTensor()])\n",
    "    in_tensor = transform(image)\n",
    "    \n",
    "    # Feed input tensor into model\n",
    "    in_tensor = in_tensor.to(device) # Send input to device, can cause problems if input tensor is on CPU and Model on GPU!!\n",
    "    out_tensor = netG(in_tensor.unsqueeze(0))\n",
    "    \n",
    "    # Final transformations, as for some reason, output is rotated\n",
    "    display_tensor = out_tensor.to('cpu') # send output tensor back to CPU\n",
    "    display_tensor = display_tensor.detach().numpy()\n",
    "    display_tensor = np.transpose(display_tensor)\n",
    "    display_tensor = np.squeeze(display_tensor)\n",
    "    display_tensor = cv2.flip(display_tensor, 0)\n",
    "    display_tensor = rotate(display_tensor, -90)\n",
    "    f = (display_tensor * 255).astype(np.uint8)\n",
    "    if save_image:  \n",
    "        out_file = input('What name do you want to save the image as: ')\n",
    "        cv2.imwrite(f'{out_file}.png', f)\n",
    "    \n",
    "    return f"
   ]
  },
  {
   "cell_type": "code",
   "execution_count": null,
   "metadata": {},
   "outputs": [],
   "source": [
    "i = readRGBImage('Alsat-2B/Test/Agriculture/HR/HR_12.jpg')\n",
    "j = readRGBImage('Alsat-2B/Test/Agriculture/LR/LR_12.jpg')\n",
    "a = testModel('Alsat-2B/Test/Agriculture/LR/LR_12.jpg')\n",
    "DisplayImageComparison1x3(i, j, a, metrics=True)"
   ]
  },
  {
   "cell_type": "code",
   "execution_count": null,
   "metadata": {},
   "outputs": [],
   "source": [
    "i = readRGBImage('Alsat-2B/Test/Agriculture/HR/HR_51.jpg')\n",
    "j = readRGBImage('Alsat-2B/Test/Agriculture/LR/LR_51.jpg')\n",
    "a = testModel('Alsat-2B/Test/Agriculture/LR/LR_51.jpg')\n",
    "DisplayImageComparison1x3(i, j, a, metrics=True)"
   ]
  },
  {
   "cell_type": "code",
   "execution_count": null,
   "metadata": {},
   "outputs": [],
   "source": [
    "i = readRGBImage('Alsat-2B/Test/Agriculture/HR/HR_11.jpg')\n",
    "j = readRGBImage('Alsat-2B/Test/Agriculture/LR/LR_11.jpg')\n",
    "a = testModel('Alsat-2B/Test/Agriculture/LR/LR_11.jpg')\n",
    "DisplayImageComparison1x3(i, j, a, metrics=True)"
   ]
  },
  {
   "cell_type": "code",
   "execution_count": null,
   "metadata": {
    "scrolled": false
   },
   "outputs": [],
   "source": [
    "plt.plot([i/100 for i in results['d_loss']], label='Discriminator Loss')\n",
    "plt.plot([i/100 for i in results['g_loss']], label='Generator Loss')\n",
    "plt.legend()\n",
    "plt.xlabel('Epochs')\n",
    "plt.title('Discriminator vs Generator Loss')"
   ]
  },
  {
   "cell_type": "markdown",
   "metadata": {},
   "source": [
    "## References: \n",
    "\n",
    "1.  Ledig, C., Theis, L., Huszár, F., Caballero, J., Cunningham, A., Acosta, A., ... & Shi, W. (2017). Photo-realistic single image super-resolution using a generative adversarial network. In Proceedings of the IEEE conference on computer vision and pattern recognition (pp. 4681-4690).\n",
    "2. Djerida, A., Djerriri, K., & Karoui, M. S. (2021, July). A new public Alsat-2B dataset for single-image super-resolution. In 2021 IEEE International Geoscience and Remote Sensing Symposium IGARSS (pp. 8095-8098). IEEE.\n",
    "3. Shi, W., Caballero, J., Huszár, F., Totz, J., Aitken, A. P., Bishop, R., ... & Wang, Z. (2016). Real-time single image and video super-resolution using an efficient sub-pixel convolutional neural network. In Proceedings of the IEEE conference on computer vision and pattern recognition (pp. 1874-1883)."
   ]
  },
  {
   "cell_type": "code",
   "execution_count": null,
   "metadata": {},
   "outputs": [],
   "source": []
  }
 ],
 "metadata": {
  "accelerator": "GPU",
  "colab": {
   "provenance": []
  },
  "kernelspec": {
   "display_name": "superres",
   "language": "python",
   "name": "superres"
  },
  "language_info": {
   "codemirror_mode": {
    "name": "ipython",
    "version": 3
   },
   "file_extension": ".py",
   "mimetype": "text/x-python",
   "name": "python",
   "nbconvert_exporter": "python",
   "pygments_lexer": "ipython3",
   "version": "3.11.4"
  }
 },
 "nbformat": 4,
 "nbformat_minor": 1
}
